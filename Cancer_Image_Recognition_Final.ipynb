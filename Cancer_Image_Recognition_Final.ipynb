{
 "cells": [
  {
   "cell_type": "code",
   "execution_count": 3,
   "id": "1b59b696",
   "metadata": {},
   "outputs": [],
   "source": [
    "#Import necessary libraries and define dataset directories\n",
    "\n",
    "import os\n",
    "from PIL import Image\n",
    "import numpy as np\n",
    "\n",
    "# Define your dataset directories for benign and malignant\n",
    "benign_dir = '/users/spicysara/archive_1/BreaKHis_v1/BreaKHis_v1/histology_slides/breast/benign'\n",
    "malignant_dir = '/users/spicysara/archive_1/BreaKHis_v1/BreaKHis_v1/histology_slides/breast/malignant'\n"
   ]
  },
  {
   "cell_type": "code",
   "execution_count": 4,
   "id": "30ae872d",
   "metadata": {},
   "outputs": [],
   "source": [
    "#Load images and their corresponding labels\n",
    "\n",
    "# Initialize lists to store images and their corresponding labels\n",
    "images = []\n",
    "labels = []\n",
    "\n",
    "# Function to load images from a given directory\n",
    "def load_images_from_dir(directory, label):\n",
    "    for root, dirs, files in os.walk(directory):\n",
    "        for file in files:\n",
    "            # Check if the file is an image file\n",
    "            if file.endswith('.png'):\n",
    "                # Load the image\n",
    "                image_path = os.path.join(root, file)\n",
    "                image = Image.open(image_path)\n",
    "                # Preprocess the image as necessary\n",
    "                # For example, resize the image to a fixed size\n",
    "                image = image.resize((224, 224))\n",
    "                # Append the image and its label to the lists\n",
    "                images.append(np.array(image))  # Convert image to NumPy array\n",
    "                labels.append(label)\n",
    "\n",
    "# Load images from benign directory\n",
    "load_images_from_dir(benign_dir, label='benign')\n",
    "\n",
    "# Load images from malignant directory\n",
    "load_images_from_dir(malignant_dir, label='malignant')\n"
   ]
  },
  {
   "cell_type": "code",
   "execution_count": 5,
   "id": "1805b52e",
   "metadata": {},
   "outputs": [],
   "source": [
    "#Split data into training and testing sets\n",
    "\n",
    "from sklearn.model_selection import train_test_split\n",
    "from sklearn.preprocessing import LabelEncoder\n",
    "from tensorflow.keras.utils import to_categorical\n",
    "\n",
    "# Convert images and labels to numpy arrays\n",
    "X = np.array(images)\n",
    "y = np.array(labels)\n",
    "\n",
    "# Split data into training and testing sets\n",
    "X_train, X_test, y_train, y_test = train_test_split(X, y, test_size=0.2, random_state=42)\n",
    "\n",
    "# Normalize pixel values to range [0, 1]\n",
    "X_train = X_train / 255.0\n",
    "X_test = X_test / 255.0\n",
    "\n",
    "# Convert labels to categorical format to ensure quality of model and compatability to algorithms \n",
    "label_encoder = LabelEncoder()\n",
    "y_train_encoded = label_encoder.fit_transform(y_train)\n",
    "y_test_encoded = label_encoder.transform(y_test)\n",
    "num_classes = len(label_encoder.classes_)\n",
    "y_train_categorical = to_categorical(y_train_encoded, num_classes)\n",
    "y_test_categorical = to_categorical(y_test_encoded, num_classes)\n"
   ]
  },
  {
   "cell_type": "code",
   "execution_count": 6,
   "id": "623541d2",
   "metadata": {},
   "outputs": [
    {
     "name": "stderr",
     "output_type": "stream",
     "text": [
      "/Users/spicysara/anaconda3/lib/python3.11/site-packages/keras/src/layers/convolutional/base_conv.py:99: UserWarning: Do not pass an `input_shape`/`input_dim` argument to a layer. When using Sequential models, prefer using an `Input(shape)` object as the first layer in the model instead.\n",
      "  super().__init__(\n"
     ]
    },
    {
     "name": "stdout",
     "output_type": "stream",
     "text": [
      "Epoch 1/13\n",
      "\u001b[1m198/198\u001b[0m \u001b[32m━━━━━━━━━━━━━━━━━━━━\u001b[0m\u001b[37m\u001b[0m \u001b[1m634s\u001b[0m 946ms/step - accuracy: 0.7109 - loss: 0.7773 - val_accuracy: 0.8236 - val_loss: 0.4751\n",
      "Epoch 2/13\n",
      "\u001b[1m198/198\u001b[0m \u001b[32m━━━━━━━━━━━━━━━━━━━━\u001b[0m\u001b[37m\u001b[0m \u001b[1m144s\u001b[0m 723ms/step - accuracy: 0.8408 - loss: 0.4141 - val_accuracy: 0.8325 - val_loss: 0.4300\n",
      "Epoch 3/13\n",
      "\u001b[1m198/198\u001b[0m \u001b[32m━━━━━━━━━━━━━━━━━━━━\u001b[0m\u001b[37m\u001b[0m \u001b[1m135s\u001b[0m 680ms/step - accuracy: 0.8532 - loss: 0.3924 - val_accuracy: 0.6852 - val_loss: 0.6722\n",
      "Epoch 4/13\n",
      "\u001b[1m198/198\u001b[0m \u001b[32m━━━━━━━━━━━━━━━━━━━━\u001b[0m\u001b[37m\u001b[0m \u001b[1m135s\u001b[0m 683ms/step - accuracy: 0.8146 - loss: 0.4625 - val_accuracy: 0.8451 - val_loss: 0.4053\n",
      "Epoch 5/13\n",
      "\u001b[1m198/198\u001b[0m \u001b[32m━━━━━━━━━━━━━━━━━━━━\u001b[0m\u001b[37m\u001b[0m \u001b[1m134s\u001b[0m 675ms/step - accuracy: 0.8519 - loss: 0.3685 - val_accuracy: 0.8483 - val_loss: 0.3856\n",
      "Epoch 6/13\n",
      "\u001b[1m198/198\u001b[0m \u001b[32m━━━━━━━━━━━━━━━━━━━━\u001b[0m\u001b[37m\u001b[0m \u001b[1m382s\u001b[0m 2s/step - accuracy: 0.8632 - loss: 0.3610 - val_accuracy: 0.8515 - val_loss: 0.3751\n",
      "Epoch 7/13\n",
      "\u001b[1m198/198\u001b[0m \u001b[32m━━━━━━━━━━━━━━━━━━━━\u001b[0m\u001b[37m\u001b[0m \u001b[1m130s\u001b[0m 654ms/step - accuracy: 0.8645 - loss: 0.3536 - val_accuracy: 0.8198 - val_loss: 0.4237\n",
      "Epoch 8/13\n",
      "\u001b[1m198/198\u001b[0m \u001b[32m━━━━━━━━━━━━━━━━━━━━\u001b[0m\u001b[37m\u001b[0m \u001b[1m299s\u001b[0m 2s/step - accuracy: 0.8676 - loss: 0.3417 - val_accuracy: 0.8515 - val_loss: 0.3625\n",
      "Epoch 9/13\n",
      "\u001b[1m198/198\u001b[0m \u001b[32m━━━━━━━━━━━━━━━━━━━━\u001b[0m\u001b[37m\u001b[0m \u001b[1m207s\u001b[0m 1s/step - accuracy: 0.8688 - loss: 0.3388 - val_accuracy: 0.8477 - val_loss: 0.4090\n",
      "Epoch 10/13\n",
      "\u001b[1m198/198\u001b[0m \u001b[32m━━━━━━━━━━━━━━━━━━━━\u001b[0m\u001b[37m\u001b[0m \u001b[1m196s\u001b[0m 991ms/step - accuracy: 0.8846 - loss: 0.3005 - val_accuracy: 0.8546 - val_loss: 0.4374\n",
      "Epoch 11/13\n",
      "\u001b[1m198/198\u001b[0m \u001b[32m━━━━━━━━━━━━━━━━━━━━\u001b[0m\u001b[37m\u001b[0m \u001b[1m163s\u001b[0m 816ms/step - accuracy: 0.8893 - loss: 0.2916 - val_accuracy: 0.8015 - val_loss: 0.4542\n",
      "Epoch 12/13\n",
      "\u001b[1m198/198\u001b[0m \u001b[32m━━━━━━━━━━━━━━━━━━━━\u001b[0m\u001b[37m\u001b[0m \u001b[1m267s\u001b[0m 1s/step - accuracy: 0.9007 - loss: 0.2658 - val_accuracy: 0.8477 - val_loss: 0.3914\n",
      "Epoch 13/13\n",
      "\u001b[1m198/198\u001b[0m \u001b[32m━━━━━━━━━━━━━━━━━━━━\u001b[0m\u001b[37m\u001b[0m \u001b[1m231s\u001b[0m 1s/step - accuracy: 0.9020 - loss: 0.2401 - val_accuracy: 0.8458 - val_loss: 0.4430\n"
     ]
    },
    {
     "data": {
      "text/plain": [
       "<keras.src.callbacks.history.History at 0x16c0dbed0>"
      ]
     },
     "execution_count": 6,
     "metadata": {},
     "output_type": "execute_result"
    }
   ],
   "source": [
    "#Build and train the CNN model\n",
    "\n",
    "from tensorflow.keras.models import Sequential\n",
    "from tensorflow.keras.layers import Conv2D, MaxPooling2D, Flatten, Dense\n",
    "\n",
    "# Build CNN model\n",
    "model = Sequential([\n",
    "    Conv2D(32, (3, 3), activation='relu', input_shape=(224, 224, 3)),\n",
    "    MaxPooling2D((2, 2)),\n",
    "    Conv2D(64, (3, 3), activation='relu'),\n",
    "    MaxPooling2D((2, 2)),\n",
    "    Conv2D(128, (3, 3), activation='relu'),\n",
    "    MaxPooling2D((2, 2)),\n",
    "    Flatten(),\n",
    "    Dense(128, activation='relu'),\n",
    "    Dense(num_classes, activation='softmax')\n",
    "])\n",
    "\n",
    "# Compile model\n",
    "model.compile(optimizer='adam', loss='categorical_crossentropy', metrics=['accuracy'])\n",
    "\n",
    "# Train model\n",
    "model.fit(X_train, y_train_categorical, epochs=13, batch_size=32, validation_data=(X_test, y_test_categorical))\n"
   ]
  },
  {
   "cell_type": "code",
   "execution_count": null,
   "id": "b0abc500",
   "metadata": {},
   "outputs": [],
   "source": []
  }
 ],
 "metadata": {
  "kernelspec": {
   "display_name": "Python 3 (ipykernel)",
   "language": "python",
   "name": "python3"
  },
  "language_info": {
   "codemirror_mode": {
    "name": "ipython",
    "version": 3
   },
   "file_extension": ".py",
   "mimetype": "text/x-python",
   "name": "python",
   "nbconvert_exporter": "python",
   "pygments_lexer": "ipython3",
   "version": "3.11.4"
  }
 },
 "nbformat": 4,
 "nbformat_minor": 5
}
