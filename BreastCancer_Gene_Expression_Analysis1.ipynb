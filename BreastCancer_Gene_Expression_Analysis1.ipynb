{
  "nbformat": 4,
  "nbformat_minor": 0,
  "metadata": {
    "colab": {
      "provenance": [],
      "include_colab_link": true
    },
    "kernelspec": {
      "name": "python3",
      "display_name": "Python 3"
    },
    "language_info": {
      "name": "python"
    }
  },
  "cells": [
    {
      "cell_type": "markdown",
      "metadata": {
        "id": "view-in-github",
        "colab_type": "text"
      },
      "source": [
        "<a href=\"https://colab.research.google.com/github/saracasss/machine_learning_cancer_diagnosis/blob/main/BreastCancer_Gene_Expression_Analysis1.ipynb\" target=\"_parent\"><img src=\"https://colab.research.google.com/assets/colab-badge.svg\" alt=\"Open In Colab\"/></a>"
      ]
    },
    {
      "cell_type": "markdown",
      "source": [
        "# **MACHINE LEARNING AND BREAST CANCER DIAGNOSTICS**"
      ],
      "metadata": {
        "id": "SV0f1_Aus_dw"
      }
    },
    {
      "cell_type": "markdown",
      "source": [
        "## **GENE EXPRESSION ANALYSIS**"
      ],
      "metadata": {
        "id": "y3NyXjnWs-wx"
      }
    },
    {
      "cell_type": "code",
      "source": [
        "#!pip install keras-tuner -q"
      ],
      "metadata": {
        "id": "NxxC__nfyDQh"
      },
      "execution_count": 1,
      "outputs": []
    },
    {
      "cell_type": "code",
      "execution_count": 2,
      "metadata": {
        "id": "HYUbMnl19MNV"
      },
      "outputs": [],
      "source": [
        "# Import our dependencies\n",
        "import pandas as pd\n",
        "import numpy as np\n",
        "import matplotlib.pyplot as plt\n",
        "import seaborn as sns\n",
        "\n",
        "# Sklearn for preprocessing, building, training, and testing regression models\n",
        "from sklearn.model_selection import train_test_split\n",
        "from sklearn.preprocessing import StandardScaler, OrdinalEncoder\n",
        "from sklearn.metrics import accuracy_score, balanced_accuracy_score, confusion_matrix, classification_report\n",
        "from sklearn.decomposition import PCA\n",
        "from sklearn.linear_model import LogisticRegression\n",
        "from sklearn import metrics\n",
        "from sklearn.neighbors import KNeighborsClassifier\n",
        "from sklearn.model_selection import cross_val_score\n",
        "from sklearn.tree import DecisionTreeClassifier\n",
        "from sklearn.ensemble import RandomForestClassifier\n",
        "from xgboost.sklearn import XGBClassifier\n",
        "from xgboost import XGBClassifier\n",
        "\n",
        "\n",
        "# Keras\n",
        "import tensorflow as tf #for building nn models\n",
        "from tensorflow import keras\n",
        "from tensorflow.keras.models import Sequential\n",
        "from tensorflow.keras.utils import to_categorical\n",
        "from tensorflow.keras.layers import Dense\n",
        "from tensorflow.keras.datasets import mnist"
      ]
    },
    {
      "cell_type": "markdown",
      "source": [
        "**READING IN THE DATASET**"
      ],
      "metadata": {
        "id": "9EAR8iRn7QXS"
      }
    },
    {
      "cell_type": "code",
      "source": [
        "bc_df = pd.read_csv('/content/Breast_GSE70947.csv')\n",
        "bc_df.head()"
      ],
      "metadata": {
        "colab": {
          "base_uri": "https://localhost:8080/",
          "height": 273
        },
        "id": "6kI5L9Dx-clx",
        "outputId": "bc45b93c-280b-4663-987e-5c39c4975dd7"
      },
      "execution_count": 3,
      "outputs": [
        {
          "output_type": "execute_result",
          "data": {
            "text/plain": [
              "                                         samples    type  NM_144987  \\\n",
              "0  GSM1823702_252800417016_S01_GE1_107_Sep09_1_2  normal   8.693318   \n",
              "1  GSM1823703_252800417016_S01_GE1_107_Sep09_2_1  normal   9.375980   \n",
              "2  GSM1823704_252800416877_S01_GE1_107_Sep09_2_3  normal   8.943442   \n",
              "3  GSM1823705_252800416894_S01_GE1_107_Sep09_1_1  normal   9.020798   \n",
              "4  GSM1823706_252800416894_S01_GE1_107_Sep09_1_3  normal   8.806154   \n",
              "\n",
              "   NM_013290  ENST00000322831  NM_001625  lincRNA:chr7:226042-232442_R  \\\n",
              "0   7.718016         6.044438  10.747077                      9.133777   \n",
              "1   7.072232         6.976741  10.429671                      9.526500   \n",
              "2   7.964573         6.269055  10.825025                      9.396855   \n",
              "3   7.824639         6.165165  11.646788                      8.776462   \n",
              "4   7.555348         6.230969  11.635247                      8.911383   \n",
              "\n",
              "   NM_032391  ENST00000238571  XR_108906  ...  \\\n",
              "0   4.735581         5.634732   4.670231  ...   \n",
              "1   5.221089         5.425187   4.860931  ...   \n",
              "2   5.258506         5.824921   4.964604  ...   \n",
              "3   4.648655         6.676692   4.770186  ...   \n",
              "4   4.518054         6.520691   4.540453  ...   \n",
              "\n",
              "   lincRNA:chr4:77860976-77869926_F  NM_152343  NM_001005327  NM_001039355  \\\n",
              "0                          7.570363   6.368684      4.784042     10.747723   \n",
              "1                          7.903335   5.713115      4.421074     11.299200   \n",
              "2                          7.705765   6.595364      4.410870     10.576807   \n",
              "3                          6.633058   5.786781      4.572984     11.175090   \n",
              "4                          6.211581   5.538635      4.613828     12.014365   \n",
              "\n",
              "   lincRNA:chr21:44456656-44468556_R  lincRNA:chr9:4869500-4896050_F  \\\n",
              "0                           5.090500                        5.994149   \n",
              "1                           4.447052                        4.421074   \n",
              "2                           5.003699                        6.529257   \n",
              "3                           4.990888                        6.669871   \n",
              "4                           4.979883                        6.414621   \n",
              "\n",
              "   NM_016053  NM_001080425  ENST00000555638  ENST00000508993  \n",
              "0  10.649336      8.969439         4.985693         5.090500  \n",
              "1  10.746854      8.174489         4.464177         4.536891  \n",
              "2  10.430034      8.473468         4.668447         5.084127  \n",
              "3  11.110395      8.880818         4.537626         4.648655  \n",
              "4  10.909805      9.526500         4.670490         4.613828  \n",
              "\n",
              "[5 rows x 35983 columns]"
            ],
            "text/html": [
              "\n",
              "  <div id=\"df-92fc1223-836c-4d65-82d0-af99b94c57c7\" class=\"colab-df-container\">\n",
              "    <div>\n",
              "<style scoped>\n",
              "    .dataframe tbody tr th:only-of-type {\n",
              "        vertical-align: middle;\n",
              "    }\n",
              "\n",
              "    .dataframe tbody tr th {\n",
              "        vertical-align: top;\n",
              "    }\n",
              "\n",
              "    .dataframe thead th {\n",
              "        text-align: right;\n",
              "    }\n",
              "</style>\n",
              "<table border=\"1\" class=\"dataframe\">\n",
              "  <thead>\n",
              "    <tr style=\"text-align: right;\">\n",
              "      <th></th>\n",
              "      <th>samples</th>\n",
              "      <th>type</th>\n",
              "      <th>NM_144987</th>\n",
              "      <th>NM_013290</th>\n",
              "      <th>ENST00000322831</th>\n",
              "      <th>NM_001625</th>\n",
              "      <th>lincRNA:chr7:226042-232442_R</th>\n",
              "      <th>NM_032391</th>\n",
              "      <th>ENST00000238571</th>\n",
              "      <th>XR_108906</th>\n",
              "      <th>...</th>\n",
              "      <th>lincRNA:chr4:77860976-77869926_F</th>\n",
              "      <th>NM_152343</th>\n",
              "      <th>NM_001005327</th>\n",
              "      <th>NM_001039355</th>\n",
              "      <th>lincRNA:chr21:44456656-44468556_R</th>\n",
              "      <th>lincRNA:chr9:4869500-4896050_F</th>\n",
              "      <th>NM_016053</th>\n",
              "      <th>NM_001080425</th>\n",
              "      <th>ENST00000555638</th>\n",
              "      <th>ENST00000508993</th>\n",
              "    </tr>\n",
              "  </thead>\n",
              "  <tbody>\n",
              "    <tr>\n",
              "      <th>0</th>\n",
              "      <td>GSM1823702_252800417016_S01_GE1_107_Sep09_1_2</td>\n",
              "      <td>normal</td>\n",
              "      <td>8.693318</td>\n",
              "      <td>7.718016</td>\n",
              "      <td>6.044438</td>\n",
              "      <td>10.747077</td>\n",
              "      <td>9.133777</td>\n",
              "      <td>4.735581</td>\n",
              "      <td>5.634732</td>\n",
              "      <td>4.670231</td>\n",
              "      <td>...</td>\n",
              "      <td>7.570363</td>\n",
              "      <td>6.368684</td>\n",
              "      <td>4.784042</td>\n",
              "      <td>10.747723</td>\n",
              "      <td>5.090500</td>\n",
              "      <td>5.994149</td>\n",
              "      <td>10.649336</td>\n",
              "      <td>8.969439</td>\n",
              "      <td>4.985693</td>\n",
              "      <td>5.090500</td>\n",
              "    </tr>\n",
              "    <tr>\n",
              "      <th>1</th>\n",
              "      <td>GSM1823703_252800417016_S01_GE1_107_Sep09_2_1</td>\n",
              "      <td>normal</td>\n",
              "      <td>9.375980</td>\n",
              "      <td>7.072232</td>\n",
              "      <td>6.976741</td>\n",
              "      <td>10.429671</td>\n",
              "      <td>9.526500</td>\n",
              "      <td>5.221089</td>\n",
              "      <td>5.425187</td>\n",
              "      <td>4.860931</td>\n",
              "      <td>...</td>\n",
              "      <td>7.903335</td>\n",
              "      <td>5.713115</td>\n",
              "      <td>4.421074</td>\n",
              "      <td>11.299200</td>\n",
              "      <td>4.447052</td>\n",
              "      <td>4.421074</td>\n",
              "      <td>10.746854</td>\n",
              "      <td>8.174489</td>\n",
              "      <td>4.464177</td>\n",
              "      <td>4.536891</td>\n",
              "    </tr>\n",
              "    <tr>\n",
              "      <th>2</th>\n",
              "      <td>GSM1823704_252800416877_S01_GE1_107_Sep09_2_3</td>\n",
              "      <td>normal</td>\n",
              "      <td>8.943442</td>\n",
              "      <td>7.964573</td>\n",
              "      <td>6.269055</td>\n",
              "      <td>10.825025</td>\n",
              "      <td>9.396855</td>\n",
              "      <td>5.258506</td>\n",
              "      <td>5.824921</td>\n",
              "      <td>4.964604</td>\n",
              "      <td>...</td>\n",
              "      <td>7.705765</td>\n",
              "      <td>6.595364</td>\n",
              "      <td>4.410870</td>\n",
              "      <td>10.576807</td>\n",
              "      <td>5.003699</td>\n",
              "      <td>6.529257</td>\n",
              "      <td>10.430034</td>\n",
              "      <td>8.473468</td>\n",
              "      <td>4.668447</td>\n",
              "      <td>5.084127</td>\n",
              "    </tr>\n",
              "    <tr>\n",
              "      <th>3</th>\n",
              "      <td>GSM1823705_252800416894_S01_GE1_107_Sep09_1_1</td>\n",
              "      <td>normal</td>\n",
              "      <td>9.020798</td>\n",
              "      <td>7.824639</td>\n",
              "      <td>6.165165</td>\n",
              "      <td>11.646788</td>\n",
              "      <td>8.776462</td>\n",
              "      <td>4.648655</td>\n",
              "      <td>6.676692</td>\n",
              "      <td>4.770186</td>\n",
              "      <td>...</td>\n",
              "      <td>6.633058</td>\n",
              "      <td>5.786781</td>\n",
              "      <td>4.572984</td>\n",
              "      <td>11.175090</td>\n",
              "      <td>4.990888</td>\n",
              "      <td>6.669871</td>\n",
              "      <td>11.110395</td>\n",
              "      <td>8.880818</td>\n",
              "      <td>4.537626</td>\n",
              "      <td>4.648655</td>\n",
              "    </tr>\n",
              "    <tr>\n",
              "      <th>4</th>\n",
              "      <td>GSM1823706_252800416894_S01_GE1_107_Sep09_1_3</td>\n",
              "      <td>normal</td>\n",
              "      <td>8.806154</td>\n",
              "      <td>7.555348</td>\n",
              "      <td>6.230969</td>\n",
              "      <td>11.635247</td>\n",
              "      <td>8.911383</td>\n",
              "      <td>4.518054</td>\n",
              "      <td>6.520691</td>\n",
              "      <td>4.540453</td>\n",
              "      <td>...</td>\n",
              "      <td>6.211581</td>\n",
              "      <td>5.538635</td>\n",
              "      <td>4.613828</td>\n",
              "      <td>12.014365</td>\n",
              "      <td>4.979883</td>\n",
              "      <td>6.414621</td>\n",
              "      <td>10.909805</td>\n",
              "      <td>9.526500</td>\n",
              "      <td>4.670490</td>\n",
              "      <td>4.613828</td>\n",
              "    </tr>\n",
              "  </tbody>\n",
              "</table>\n",
              "<p>5 rows × 35983 columns</p>\n",
              "</div>\n",
              "    <div class=\"colab-df-buttons\">\n",
              "\n",
              "  <div class=\"colab-df-container\">\n",
              "    <button class=\"colab-df-convert\" onclick=\"convertToInteractive('df-92fc1223-836c-4d65-82d0-af99b94c57c7')\"\n",
              "            title=\"Convert this dataframe to an interactive table.\"\n",
              "            style=\"display:none;\">\n",
              "\n",
              "  <svg xmlns=\"http://www.w3.org/2000/svg\" height=\"24px\" viewBox=\"0 -960 960 960\">\n",
              "    <path d=\"M120-120v-720h720v720H120Zm60-500h600v-160H180v160Zm220 220h160v-160H400v160Zm0 220h160v-160H400v160ZM180-400h160v-160H180v160Zm440 0h160v-160H620v160ZM180-180h160v-160H180v160Zm440 0h160v-160H620v160Z\"/>\n",
              "  </svg>\n",
              "    </button>\n",
              "\n",
              "  <style>\n",
              "    .colab-df-container {\n",
              "      display:flex;\n",
              "      gap: 12px;\n",
              "    }\n",
              "\n",
              "    .colab-df-convert {\n",
              "      background-color: #E8F0FE;\n",
              "      border: none;\n",
              "      border-radius: 50%;\n",
              "      cursor: pointer;\n",
              "      display: none;\n",
              "      fill: #1967D2;\n",
              "      height: 32px;\n",
              "      padding: 0 0 0 0;\n",
              "      width: 32px;\n",
              "    }\n",
              "\n",
              "    .colab-df-convert:hover {\n",
              "      background-color: #E2EBFA;\n",
              "      box-shadow: 0px 1px 2px rgba(60, 64, 67, 0.3), 0px 1px 3px 1px rgba(60, 64, 67, 0.15);\n",
              "      fill: #174EA6;\n",
              "    }\n",
              "\n",
              "    .colab-df-buttons div {\n",
              "      margin-bottom: 4px;\n",
              "    }\n",
              "\n",
              "    [theme=dark] .colab-df-convert {\n",
              "      background-color: #3B4455;\n",
              "      fill: #D2E3FC;\n",
              "    }\n",
              "\n",
              "    [theme=dark] .colab-df-convert:hover {\n",
              "      background-color: #434B5C;\n",
              "      box-shadow: 0px 1px 3px 1px rgba(0, 0, 0, 0.15);\n",
              "      filter: drop-shadow(0px 1px 2px rgba(0, 0, 0, 0.3));\n",
              "      fill: #FFFFFF;\n",
              "    }\n",
              "  </style>\n",
              "\n",
              "    <script>\n",
              "      const buttonEl =\n",
              "        document.querySelector('#df-92fc1223-836c-4d65-82d0-af99b94c57c7 button.colab-df-convert');\n",
              "      buttonEl.style.display =\n",
              "        google.colab.kernel.accessAllowed ? 'block' : 'none';\n",
              "\n",
              "      async function convertToInteractive(key) {\n",
              "        const element = document.querySelector('#df-92fc1223-836c-4d65-82d0-af99b94c57c7');\n",
              "        const dataTable =\n",
              "          await google.colab.kernel.invokeFunction('convertToInteractive',\n",
              "                                                    [key], {});\n",
              "        if (!dataTable) return;\n",
              "\n",
              "        const docLinkHtml = 'Like what you see? Visit the ' +\n",
              "          '<a target=\"_blank\" href=https://colab.research.google.com/notebooks/data_table.ipynb>data table notebook</a>'\n",
              "          + ' to learn more about interactive tables.';\n",
              "        element.innerHTML = '';\n",
              "        dataTable['output_type'] = 'display_data';\n",
              "        await google.colab.output.renderOutput(dataTable, element);\n",
              "        const docLink = document.createElement('div');\n",
              "        docLink.innerHTML = docLinkHtml;\n",
              "        element.appendChild(docLink);\n",
              "      }\n",
              "    </script>\n",
              "  </div>\n",
              "\n",
              "\n",
              "<div id=\"df-80c76ebb-f588-4cad-b8eb-209d0d230b07\">\n",
              "  <button class=\"colab-df-quickchart\" onclick=\"quickchart('df-80c76ebb-f588-4cad-b8eb-209d0d230b07')\"\n",
              "            title=\"Suggest charts\"\n",
              "            style=\"display:none;\">\n",
              "\n",
              "<svg xmlns=\"http://www.w3.org/2000/svg\" height=\"24px\"viewBox=\"0 0 24 24\"\n",
              "     width=\"24px\">\n",
              "    <g>\n",
              "        <path d=\"M19 3H5c-1.1 0-2 .9-2 2v14c0 1.1.9 2 2 2h14c1.1 0 2-.9 2-2V5c0-1.1-.9-2-2-2zM9 17H7v-7h2v7zm4 0h-2V7h2v10zm4 0h-2v-4h2v4z\"/>\n",
              "    </g>\n",
              "</svg>\n",
              "  </button>\n",
              "\n",
              "<style>\n",
              "  .colab-df-quickchart {\n",
              "      --bg-color: #E8F0FE;\n",
              "      --fill-color: #1967D2;\n",
              "      --hover-bg-color: #E2EBFA;\n",
              "      --hover-fill-color: #174EA6;\n",
              "      --disabled-fill-color: #AAA;\n",
              "      --disabled-bg-color: #DDD;\n",
              "  }\n",
              "\n",
              "  [theme=dark] .colab-df-quickchart {\n",
              "      --bg-color: #3B4455;\n",
              "      --fill-color: #D2E3FC;\n",
              "      --hover-bg-color: #434B5C;\n",
              "      --hover-fill-color: #FFFFFF;\n",
              "      --disabled-bg-color: #3B4455;\n",
              "      --disabled-fill-color: #666;\n",
              "  }\n",
              "\n",
              "  .colab-df-quickchart {\n",
              "    background-color: var(--bg-color);\n",
              "    border: none;\n",
              "    border-radius: 50%;\n",
              "    cursor: pointer;\n",
              "    display: none;\n",
              "    fill: var(--fill-color);\n",
              "    height: 32px;\n",
              "    padding: 0;\n",
              "    width: 32px;\n",
              "  }\n",
              "\n",
              "  .colab-df-quickchart:hover {\n",
              "    background-color: var(--hover-bg-color);\n",
              "    box-shadow: 0 1px 2px rgba(60, 64, 67, 0.3), 0 1px 3px 1px rgba(60, 64, 67, 0.15);\n",
              "    fill: var(--button-hover-fill-color);\n",
              "  }\n",
              "\n",
              "  .colab-df-quickchart-complete:disabled,\n",
              "  .colab-df-quickchart-complete:disabled:hover {\n",
              "    background-color: var(--disabled-bg-color);\n",
              "    fill: var(--disabled-fill-color);\n",
              "    box-shadow: none;\n",
              "  }\n",
              "\n",
              "  .colab-df-spinner {\n",
              "    border: 2px solid var(--fill-color);\n",
              "    border-color: transparent;\n",
              "    border-bottom-color: var(--fill-color);\n",
              "    animation:\n",
              "      spin 1s steps(1) infinite;\n",
              "  }\n",
              "\n",
              "  @keyframes spin {\n",
              "    0% {\n",
              "      border-color: transparent;\n",
              "      border-bottom-color: var(--fill-color);\n",
              "      border-left-color: var(--fill-color);\n",
              "    }\n",
              "    20% {\n",
              "      border-color: transparent;\n",
              "      border-left-color: var(--fill-color);\n",
              "      border-top-color: var(--fill-color);\n",
              "    }\n",
              "    30% {\n",
              "      border-color: transparent;\n",
              "      border-left-color: var(--fill-color);\n",
              "      border-top-color: var(--fill-color);\n",
              "      border-right-color: var(--fill-color);\n",
              "    }\n",
              "    40% {\n",
              "      border-color: transparent;\n",
              "      border-right-color: var(--fill-color);\n",
              "      border-top-color: var(--fill-color);\n",
              "    }\n",
              "    60% {\n",
              "      border-color: transparent;\n",
              "      border-right-color: var(--fill-color);\n",
              "    }\n",
              "    80% {\n",
              "      border-color: transparent;\n",
              "      border-right-color: var(--fill-color);\n",
              "      border-bottom-color: var(--fill-color);\n",
              "    }\n",
              "    90% {\n",
              "      border-color: transparent;\n",
              "      border-bottom-color: var(--fill-color);\n",
              "    }\n",
              "  }\n",
              "</style>\n",
              "\n",
              "  <script>\n",
              "    async function quickchart(key) {\n",
              "      const quickchartButtonEl =\n",
              "        document.querySelector('#' + key + ' button');\n",
              "      quickchartButtonEl.disabled = true;  // To prevent multiple clicks.\n",
              "      quickchartButtonEl.classList.add('colab-df-spinner');\n",
              "      try {\n",
              "        const charts = await google.colab.kernel.invokeFunction(\n",
              "            'suggestCharts', [key], {});\n",
              "      } catch (error) {\n",
              "        console.error('Error during call to suggestCharts:', error);\n",
              "      }\n",
              "      quickchartButtonEl.classList.remove('colab-df-spinner');\n",
              "      quickchartButtonEl.classList.add('colab-df-quickchart-complete');\n",
              "    }\n",
              "    (() => {\n",
              "      let quickchartButtonEl =\n",
              "        document.querySelector('#df-80c76ebb-f588-4cad-b8eb-209d0d230b07 button');\n",
              "      quickchartButtonEl.style.display =\n",
              "        google.colab.kernel.accessAllowed ? 'block' : 'none';\n",
              "    })();\n",
              "  </script>\n",
              "</div>\n",
              "\n",
              "    </div>\n",
              "  </div>\n"
            ],
            "application/vnd.google.colaboratory.intrinsic+json": {
              "type": "dataframe",
              "variable_name": "bc_df"
            }
          },
          "metadata": {},
          "execution_count": 3
        }
      ]
    },
    {
      "cell_type": "markdown",
      "source": [
        "# **PREPROCESSING**"
      ],
      "metadata": {
        "id": "HiNETG5n7RHY"
      }
    },
    {
      "cell_type": "code",
      "source": [
        "# How many samples and columns are in the dataset?\n",
        "num_samples = bc_df.shape[0]\n",
        "num_columns = bc_df.shape[1]\n",
        "print(\".'\"*20)\n",
        "print(f'Number of Samples: {num_samples}')\n",
        "print(f'Number of Columns: {num_columns}')\n",
        "print(\".'\"*20)\n",
        "\n",
        "# How many of each type of tissue samples are in the dataset?\n",
        "type_counts = bc_df['type'].value_counts()\n",
        "print(\"Tissue Types and Counts\")\n",
        "print(type_counts)\n",
        "print(\".'\"*20)\n",
        "\n",
        "# Are there duplicate rows?\n",
        "dup_rows = bc_df.duplicated()\n",
        "print(\"Duplicate rows? T/F\")\n",
        "print(dup_rows.value_counts())\n",
        "print(\".'\"*20)\n",
        "\n",
        "# Are there any null values?\n",
        "# PCA will not work if there are null values\n",
        "rows_with_null = bc_df[bc_df.isnull().any(axis=1)]\n",
        "print(f'Null values: {len(rows_with_null)}')\n",
        "print(\".'\"*20)"
      ],
      "metadata": {
        "colab": {
          "base_uri": "https://localhost:8080/"
        },
        "id": "AiTHzYbg7obk",
        "outputId": "23d374dd-8562-4868-b157-34691cb7bda7"
      },
      "execution_count": 4,
      "outputs": [
        {
          "output_type": "stream",
          "name": "stdout",
          "text": [
            ".'.'.'.'.'.'.'.'.'.'.'.'.'.'.'.'.'.'.'.'\n",
            "Number of Samples: 289\n",
            "Number of Columns: 35983\n",
            ".'.'.'.'.'.'.'.'.'.'.'.'.'.'.'.'.'.'.'.'\n",
            "Tissue Types and Counts\n",
            "normal                   146\n",
            "breast_adenocarcinoma    143\n",
            "Name: type, dtype: int64\n",
            ".'.'.'.'.'.'.'.'.'.'.'.'.'.'.'.'.'.'.'.'\n",
            "Duplicate rows? T/F\n",
            "False    289\n",
            "dtype: int64\n",
            ".'.'.'.'.'.'.'.'.'.'.'.'.'.'.'.'.'.'.'.'\n",
            "Null values: 0\n",
            ".'.'.'.'.'.'.'.'.'.'.'.'.'.'.'.'.'.'.'.'\n"
          ]
        }
      ]
    },
    {
      "cell_type": "code",
      "source": [
        "#bc_df = bc_df.drop(rows_with_null.index)"
      ],
      "metadata": {
        "id": "J7kPwn6Mn2JI"
      },
      "execution_count": 5,
      "outputs": []
    },
    {
      "cell_type": "code",
      "source": [
        "# OrdinalENcorder to change categorical values to numerical values\n",
        "# 1.0 is normal tissue and 0.0 is breast_adenocarcinoma tissue\n",
        "\n",
        "ord_enc = OrdinalEncoder()\n",
        "bc_df['type'] = ord_enc.fit_transform(bc_df[['type']])\n",
        "bc_df['type'].value_counts()"
      ],
      "metadata": {
        "colab": {
          "base_uri": "https://localhost:8080/"
        },
        "id": "XTI4DGFYEF6v",
        "outputId": "9d4d0f5f-c50f-46f2-820f-b4d63a1c06c0"
      },
      "execution_count": 6,
      "outputs": [
        {
          "output_type": "execute_result",
          "data": {
            "text/plain": [
              "1.0    146\n",
              "0.0    143\n",
              "Name: type, dtype: int64"
            ]
          },
          "metadata": {},
          "execution_count": 6
        }
      ]
    },
    {
      "cell_type": "code",
      "source": [
        "# Drop \"samples\" column because scaler will not accept a string value\n",
        "# and the column is unnecessary\n",
        "bc_df = bc_df.drop(columns='samples')\n",
        "\n",
        "# separate data into features (X) and target (y)\n",
        "X = bc_df.drop(columns = \"type\").values\n",
        "y = bc_df['type'].values\n",
        "\n",
        "display(X.shape)\n",
        "display(y.shape)"
      ],
      "metadata": {
        "colab": {
          "base_uri": "https://localhost:8080/",
          "height": 52
        },
        "id": "hpqydhc8-cwV",
        "outputId": "4135c1d8-f483-44eb-d36e-1f8c702b2ca6"
      },
      "execution_count": 7,
      "outputs": [
        {
          "output_type": "display_data",
          "data": {
            "text/plain": [
              "(289, 35981)"
            ]
          },
          "metadata": {}
        },
        {
          "output_type": "display_data",
          "data": {
            "text/plain": [
              "(289,)"
            ]
          },
          "metadata": {}
        }
      ]
    },
    {
      "cell_type": "markdown",
      "source": [
        "# **SCALING THE DATA**"
      ],
      "metadata": {
        "id": "OSMNzrLk1YXa"
      }
    },
    {
      "cell_type": "code",
      "source": [
        "# scale the features (X) data\n",
        "# troubleshooting - this section failed because the 'samples' column was a string when the scaler expected a float. dropped the column as it was unneeded.\n",
        "# Create a StandardScaler instances\n",
        "scaler = StandardScaler()\n",
        "\n",
        "# Fit the StandardScaler\n",
        "X_scaler = scaler.fit(X)\n",
        "\n",
        "# Scale the data\n",
        "X_scaled = X_scaler.transform(X)\n"
      ],
      "metadata": {
        "id": "BbF9NGFFBxdc"
      },
      "execution_count": 8,
      "outputs": []
    },
    {
      "cell_type": "markdown",
      "source": [
        "# **PRINCIPLE COMPONENT ANALYSIS**"
      ],
      "metadata": {
        "id": "OQbpPuPS1fL-"
      }
    },
    {
      "cell_type": "code",
      "source": [
        "# PRINCIPLE COMPONENT ANALYSIS\n",
        "# \"The large p, small n problem\" [2]\n",
        "# this section is referencing a kaggle.com submission \"Breast cancer Prediction -cancer gene expression\" [3]\n",
        "# troubleshooting - this section did not work at first because of null values in the input X,\n",
        "# # the issue was corrected by exposing the sample with null values and dropping it from the set.\n",
        "\n",
        "# set the amount of data to be retained by the final components - 85%\n",
        "target_variance =0.85\n",
        "\n",
        "pca = PCA(n_components=target_variance)\n",
        "pca.fit(X_scaled)\n",
        "components = len(pca.explained_variance_ratio_)\n",
        "\n",
        "print(f'Number of Components: {components}')\n",
        "print(\"-\" * 20)\n",
        "\n",
        "# The magnitude of each feature within the components\n",
        "pca_components = np.abs(pca.components_)\n",
        "print(f'PCA component magnitudes:\\n{pca_components[:3]}')\n",
        "print(\"-\" * 20)\n",
        "\n",
        "# Variation explained by each component as a ratio\n",
        "print(f'Explained Variance Ratio: \\n {pca.explained_variance_ratio_[:20]}')"
      ],
      "metadata": {
        "colab": {
          "base_uri": "https://localhost:8080/"
        },
        "id": "O_xeR0hprRPT",
        "outputId": "a493dd29-bef6-43f7-e07a-272aebdd811e"
      },
      "execution_count": 9,
      "outputs": [
        {
          "output_type": "stream",
          "name": "stdout",
          "text": [
            "Number of Components: 119\n",
            "--------------------\n",
            "PCA component magnitudes:\n",
            "[[0.00017058 0.00358908 0.00460561 ... 0.00229833 0.0003514  0.00194588]\n",
            " [0.00201262 0.00141161 0.00272887 ... 0.00786161 0.00018102 0.0006464 ]\n",
            " [0.01003232 0.01288561 0.00311774 ... 0.00267283 0.00156296 0.00122485]]\n",
            "--------------------\n",
            "Explained Variance Ratio: \n",
            " [0.13800748 0.0618118  0.04451731 0.04149678 0.03539381 0.02936318\n",
            " 0.02833444 0.0244877  0.02186673 0.0166028  0.0147112  0.01418859\n",
            " 0.01290568 0.01259053 0.01117864 0.00969771 0.00946453 0.00894229\n",
            " 0.00819454 0.00794836]\n"
          ]
        }
      ]
    },
    {
      "cell_type": "code",
      "source": [
        "# Variation captured by each component in descending order\n",
        "\n",
        "ratios = pca.explained_variance_ratio_\n",
        "ratios_df = pd.DataFrame({'PC': range(len(ratios)), 'ratio': ratios})\n",
        "\n",
        "plt.figure(figsize=(8,4))\n",
        "plt.plot(ratios_df['PC'], ratios_df['ratio']*100, color='blue', alpha=0.7)\n",
        "plt.xlabel('Principal Component')\n",
        "plt.ylabel('Explained Variance Ratio (%)')\n",
        "plt.title('Explained Variance Ratio per Component')\n",
        "plt.xticks(ratios_df['PC'][::20],  rotation='vertical')\n",
        "\n",
        "plt.show()"
      ],
      "metadata": {
        "colab": {
          "base_uri": "https://localhost:8080/",
          "height": 422
        },
        "id": "OjXUngF7MKON",
        "outputId": "e5c6588d-ec3e-47e2-8f91-2611eb730044"
      },
      "execution_count": 10,
      "outputs": [
        {
          "output_type": "display_data",
          "data": {
            "text/plain": [
              "<Figure size 800x400 with 1 Axes>"
            ],
            "image/png": "[encoded data removed]"
          },
          "metadata": {}
        }
      ]
    },
    {
      "cell_type": "code",
      "source": [
        "# Make the scree plot [3]\n",
        "components = len(pca.explained_variance_ratio_)\n",
        "plt.figure(figsize=(8,4))\n",
        "plt.plot(range(1, components + 1), np.cumsum(pca.explained_variance_ratio_ * 100))\n",
        "plt.xlabel(\"Number of components\")\n",
        "plt.ylabel(\"Explained variance (%)\")\n",
        "plt.title('Explained Variance Ratio Scree Plot')\n",
        "\n",
        "plt.show()"
      ],
      "metadata": {
        "colab": {
          "base_uri": "https://localhost:8080/",
          "height": 410
        },
        "id": "MhjFCIRM3x2R",
        "outputId": "6f50df8c-93d9-4770-8189-d3dd808f1739"
      },
      "execution_count": 11,
      "outputs": [
        {
          "output_type": "display_data",
          "data": {
            "text/plain": [
              "<Figure size 800x400 with 1 Axes>"
            ],
            "image/png": "[encoded data removed]"
          },
          "metadata": {}
        }
      ]
    },
    {
      "cell_type": "markdown",
      "source": [
        "## **SPLIT THE PCA DATA INTO TRAINING AND TESTING SETS**\n",
        "#### Check the testing data for balanced class distribution."
      ],
      "metadata": {
        "id": "nZ7ZHRrk7GBA"
      }
    },
    {
      "cell_type": "code",
      "source": [
        "# transform the features (X_scaled) data onto the principle components\n",
        "# using the .transform method of the PCA object\n",
        "X_pca = pca.transform(X_scaled)\n",
        "print(X_pca.shape)"
      ],
      "metadata": {
        "colab": {
          "base_uri": "https://localhost:8080/"
        },
        "id": "4FnQ-xmer1W1",
        "outputId": "3b072e86-f1ac-4f97-f2e6-d1dfbbf20719"
      },
      "execution_count": 12,
      "outputs": [
        {
          "output_type": "stream",
          "name": "stdout",
          "text": [
            "(289, 119)\n"
          ]
        }
      ]
    },
    {
      "source": [
        "# split data into training/test sets\n",
        "X_train, X_test, y_train, y_test = train_test_split(X_pca, y, random_state=1)\n",
        "\n",
        "print(f'X_train {X_train.shape}')\n",
        "print(f'X_test {X_test.shape}')\n",
        "print(f'y_train {y_train.shape}')\n",
        "print(f'y_test {y_test.shape}')\n",
        "\n",
        "print(\"-\" * 20)\n",
        "y_test_series = pd.Series(y_test)\n",
        "print(f'y-test class distribution: \\n{y_test_series.value_counts()}')"
      ],
      "cell_type": "code",
      "metadata": {
        "id": "IoF3wno4lxtE",
        "colab": {
          "base_uri": "https://localhost:8080/"
        },
        "outputId": "70513572-ab3d-4e45-8b13-5f575d73d1c4"
      },
      "execution_count": 13,
      "outputs": [
        {
          "output_type": "stream",
          "name": "stdout",
          "text": [
            "X_train (216, 119)\n",
            "X_test (73, 119)\n",
            "y_train (216,)\n",
            "y_test (73,)\n",
            "--------------------\n",
            "y-test class distribution: \n",
            "0.0    39\n",
            "1.0    34\n",
            "dtype: int64\n"
          ]
        }
      ]
    },
    {
      "cell_type": "markdown",
      "source": [
        "# **NEURAL NETWORK MODEL**"
      ],
      "metadata": {
        "id": "OALj8LWb7lMG"
      }
    },
    {
      "cell_type": "code",
      "source": [
        "# Build the deep learning model\n",
        "# using sigmoid as output layer activation because there is only 2 possible outcomes in this dataset\n",
        "# number of units in hidden layers is arbiratily chosen\n",
        "nn_model = tf.keras.models.Sequential()\n",
        "nn_model.add(tf.keras.layers.Dense(units=16, activation=\"relu\", input_dim=X_pca.shape[1]))\n",
        "nn_model.add(tf.keras.layers.Dense(units=16, activation=\"relu\"))\n",
        "nn_model.add(tf.keras.layers.Dense(units=1, activation=\"sigmoid\"))\n",
        "\n",
        "# compile the sequential model together and customize metrics\n",
        "# this step prepares the model for training and specifies the loss function, optimizer, and metrics to monitor during training\n",
        "nn_model.compile(loss=\"binary_crossentropy\", optimizer=\"adam\", metrics=[\"accuracy\"])\n",
        "\n",
        "# fit the model to the training data/ aka Train the model\n",
        "# epochs is the number of times the training data is passed through the neural network\n",
        "fit_model = nn_model.fit(X_train, y_train, epochs=20)\n",
        "\n",
        "# Evaluate the model using the test data\n",
        "#\n",
        "model_loss, model_accuracy = nn_model.evaluate(X_test,y_test,verbose=2)\n",
        "print(f\"Loss: {model_loss}, Accuracy: {model_accuracy}\")"
      ],
      "metadata": {
        "id": "xEzLmTkQwK__",
        "colab": {
          "base_uri": "https://localhost:8080/"
        },
        "outputId": "2154cadb-7d70-4ee8-bb62-fab3218567d7"
      },
      "execution_count": 14,
      "outputs": [
        {
          "output_type": "stream",
          "name": "stdout",
          "text": [
            "Epoch 1/20\n",
            "7/7 [==============================] - 1s 4ms/step - loss: 6.0848 - accuracy: 0.5417\n",
            "Epoch 2/20\n",
            "7/7 [==============================] - 0s 3ms/step - loss: 3.6979 - accuracy: 0.5972\n",
            "Epoch 3/20\n",
            "7/7 [==============================] - 0s 3ms/step - loss: 2.1471 - accuracy: 0.6759\n",
            "Epoch 4/20\n",
            "7/7 [==============================] - 0s 3ms/step - loss: 1.3373 - accuracy: 0.7269\n",
            "Epoch 5/20\n",
            "7/7 [==============================] - 0s 3ms/step - loss: 0.8138 - accuracy: 0.7685\n",
            "Epoch 6/20\n",
            "7/7 [==============================] - 0s 3ms/step - loss: 0.5715 - accuracy: 0.8241\n",
            "Epoch 7/20\n",
            "7/7 [==============================] - 0s 3ms/step - loss: 0.4224 - accuracy: 0.8565\n",
            "Epoch 8/20\n",
            "7/7 [==============================] - 0s 3ms/step - loss: 0.3365 - accuracy: 0.8796\n",
            "Epoch 9/20\n",
            "7/7 [==============================] - 0s 3ms/step - loss: 0.2694 - accuracy: 0.8935\n",
            "Epoch 10/20\n",
            "7/7 [==============================] - 0s 3ms/step - loss: 0.2231 - accuracy: 0.9074\n",
            "Epoch 11/20\n",
            "7/7 [==============================] - 0s 3ms/step - loss: 0.1837 - accuracy: 0.9306\n",
            "Epoch 12/20\n",
            "7/7 [==============================] - 0s 3ms/step - loss: 0.1565 - accuracy: 0.9398\n",
            "Epoch 13/20\n",
            "7/7 [==============================] - 0s 3ms/step - loss: 0.1312 - accuracy: 0.9491\n",
            "Epoch 14/20\n",
            "7/7 [==============================] - 0s 3ms/step - loss: 0.1139 - accuracy: 0.9537\n",
            "Epoch 15/20\n",
            "7/7 [==============================] - 0s 3ms/step - loss: 0.0979 - accuracy: 0.9630\n",
            "Epoch 16/20\n",
            "7/7 [==============================] - 0s 3ms/step - loss: 0.0832 - accuracy: 0.9676\n",
            "Epoch 17/20\n",
            "7/7 [==============================] - 0s 3ms/step - loss: 0.0743 - accuracy: 0.9769\n",
            "Epoch 18/20\n",
            "7/7 [==============================] - 0s 3ms/step - loss: 0.0670 - accuracy: 0.9861\n",
            "Epoch 19/20\n",
            "7/7 [==============================] - 0s 3ms/step - loss: 0.0624 - accuracy: 0.9861\n",
            "Epoch 20/20\n",
            "7/7 [==============================] - 0s 3ms/step - loss: 0.0585 - accuracy: 0.9907\n",
            "3/3 - 0s - loss: 2.0182 - accuracy: 0.7260 - 189ms/epoch - 63ms/step\n",
            "Loss: 2.018158435821533, Accuracy: 0.7260273694992065\n"
          ]
        }
      ]
    },
    {
      "cell_type": "markdown",
      "source": [
        "This neural network model finished the training cycles with 100% accuracy, but dropped to 72% accuracy with the testing data. This implies the model is overfit to the trianing data. Solutions to try include (1) reducing the number of layers and/or nodes in the model and (2) reducing the number of runs with the taining data [4]."
      ],
      "metadata": {
        "id": "zIzlZXPA8Ikj"
      }
    },
    {
      "cell_type": "markdown",
      "source": [
        "# **NN MODEL OPTIMIZATION WITH KARAS TUNER**"
      ],
      "metadata": {
        "id": "jEh2rJUO76gA"
      }
    },
    {
      "cell_type": "code",
      "source": [
        "# Create a method that creates a new Sequential model with hyperparameter options\n",
        "def create_model(hp):\n",
        "    nn_model = tf.keras.models.Sequential()\n",
        "\n",
        "    # Allow kerastuner to decide which activation function to use in hidden layers\n",
        "    activation = hp.Choice('activation',['relu','tanh'])\n",
        "\n",
        "    # Allow kerastuner to decide number of neurons in first layer\n",
        "    nn_model.add(tf.keras.layers.Dense(units=hp.Int('first_units',\n",
        "        min_value=1,\n",
        "        max_value=10,\n",
        "        step=1), activation=activation, input_dim=119))\n",
        "\n",
        "    # Allow kerastuner to decide number of hidden layers and neurons in hidden layers\n",
        "    for i in range(hp.Int('num_layers', 1, 2)):\n",
        "        nn_model.add(tf.keras.layers.Dense(units=hp.Int('units_' + str(i),\n",
        "            min_value=1,\n",
        "            max_value=10,\n",
        "            step=1),\n",
        "            activation=activation))\n",
        "\n",
        "    # Provide output layer\n",
        "    nn_model.add(tf.keras.layers.Dense(units=1, activation=\"sigmoid\"))\n",
        "\n",
        "    # Compile the model\n",
        "    nn_model.compile(loss=\"binary_crossentropy\", optimizer='adam', metrics=[\"accuracy\"])\n",
        "\n",
        "    return nn_model"
      ],
      "metadata": {
        "id": "_nqgKCkY757F"
      },
      "execution_count": 15,
      "outputs": []
    },
    {
      "cell_type": "code",
      "source": [
        "!pip install keras-tuner"
      ],
      "metadata": {
        "colab": {
          "base_uri": "https://localhost:8080/"
        },
        "id": "Iu_XVELuuKS6",
        "outputId": "cb1aebf5-9246-4a24-da60-0216e8361221"
      },
      "execution_count": 16,
      "outputs": [
        {
          "output_type": "stream",
          "name": "stdout",
          "text": [
            "Collecting keras-tuner\n",
            "  Downloading keras_tuner-1.4.7-py3-none-any.whl (129 kB)\n",
            "\u001b[?25l     \u001b[90m━━━━━━━━━━━━━━━━━━━━━━━━━━━━━━━━━━━━━━━━\u001b[0m \u001b[32m0.0/129.1 kB\u001b[0m \u001b[31m?\u001b[0m eta \u001b[36m-:--:--\u001b[0m\r\u001b[2K     \u001b[91m━━━━━━━━━━━━\u001b[0m\u001b[91m╸\u001b[0m\u001b[90m━━━━━━━━━━━━━━━━━━━━━━━━━━━\u001b[0m \u001b[32m41.0/129.1 kB\u001b[0m \u001b[31m1.0 MB/s\u001b[0m eta \u001b[36m0:00:01\u001b[0m\r\u001b[2K     \u001b[91m━━━━━━━━━━━━━━━━━━━━━━━━━━━━━━━━━━━━━━\u001b[0m\u001b[90m╺\u001b[0m\u001b[90m━\u001b[0m \u001b[32m122.9/129.1 kB\u001b[0m \u001b[31m1.7 MB/s\u001b[0m eta \u001b[36m0:00:01\u001b[0m\r\u001b[2K     \u001b[90m━━━━━━━━━━━━━━━━━━━━━━━━━━━━━━━━━━━━━━━━\u001b[0m \u001b[32m129.1/129.1 kB\u001b[0m \u001b[31m1.6 MB/s\u001b[0m eta \u001b[36m0:00:00\u001b[0m\n",
            "\u001b[?25hRequirement already satisfied: keras in /usr/local/lib/python3.10/dist-packages (from keras-tuner) (2.15.0)\n",
            "Requirement already satisfied: packaging in /usr/local/lib/python3.10/dist-packages (from keras-tuner) (23.2)\n",
            "Requirement already satisfied: requests in /usr/local/lib/python3.10/dist-packages (from keras-tuner) (2.31.0)\n",
            "Collecting kt-legacy (from keras-tuner)\n",
            "  Downloading kt_legacy-1.0.5-py3-none-any.whl (9.6 kB)\n",
            "Requirement already satisfied: charset-normalizer<4,>=2 in /usr/local/lib/python3.10/dist-packages (from requests->keras-tuner) (3.3.2)\n",
            "Requirement already satisfied: idna<4,>=2.5 in /usr/local/lib/python3.10/dist-packages (from requests->keras-tuner) (3.6)\n",
            "Requirement already satisfied: urllib3<3,>=1.21.1 in /usr/local/lib/python3.10/dist-packages (from requests->keras-tuner) (2.0.7)\n",
            "Requirement already satisfied: certifi>=2017.4.17 in /usr/local/lib/python3.10/dist-packages (from requests->keras-tuner) (2024.2.2)\n",
            "Installing collected packages: kt-legacy, keras-tuner\n",
            "Successfully installed keras-tuner-1.4.7 kt-legacy-1.0.5\n"
          ]
        }
      ]
    },
    {
      "cell_type": "code",
      "source": [
        "# Import the kerastuner library\n",
        "import keras_tuner as kt\n",
        "\n",
        "tuner = kt.Hyperband(\n",
        "    create_model,\n",
        "    objective=\"val_accuracy\",\n",
        "    max_epochs=20,\n",
        "    hyperband_iterations=2)"
      ],
      "metadata": {
        "id": "OUjRSsX3lt2F"
      },
      "execution_count": 17,
      "outputs": []
    },
    {
      "cell_type": "code",
      "source": [
        "# Run the kerastuner search for best hyperparameters\n",
        "tuner.search(X_train,y_train,epochs=20,validation_data=(X_test,y_test))"
      ],
      "metadata": {
        "id": "O1R_6UqTltj9",
        "colab": {
          "base_uri": "https://localhost:8080/"
        },
        "outputId": "eb6497bc-637b-4900-c7b5-7921fca4077c"
      },
      "execution_count": 18,
      "outputs": [
        {
          "output_type": "stream",
          "name": "stdout",
          "text": [
            "Trial 60 Complete [00h 00m 04s]\n",
            "val_accuracy: 0.7808219194412231\n",
            "\n",
            "Best val_accuracy So Far: 0.835616409778595\n",
            "Total elapsed time: 00h 03m 11s\n"
          ]
        }
      ]
    },
    {
      "cell_type": "code",
      "source": [
        "# Get top 3 model hyperparameters and print the values\n",
        "top_hyper = tuner.get_best_hyperparameters(3)\n",
        "for param in top_hyper:\n",
        "    print(param.values)"
      ],
      "metadata": {
        "id": "QyFlgjxRlth3",
        "colab": {
          "base_uri": "https://localhost:8080/"
        },
        "outputId": "cac3fc92-0397-40b7-a7a7-b4cc90b7a0db"
      },
      "execution_count": 19,
      "outputs": [
        {
          "output_type": "stream",
          "name": "stdout",
          "text": [
            "{'activation': 'relu', 'first_units': 3, 'num_layers': 2, 'units_0': 2, 'units_1': 9, 'tuner/epochs': 20, 'tuner/initial_epoch': 0, 'tuner/bracket': 0, 'tuner/round': 0}\n",
            "{'activation': 'relu', 'first_units': 10, 'num_layers': 2, 'units_0': 4, 'units_1': 6, 'tuner/epochs': 20, 'tuner/initial_epoch': 0, 'tuner/bracket': 0, 'tuner/round': 0}\n",
            "{'activation': 'tanh', 'first_units': 9, 'num_layers': 1, 'units_0': 7, 'units_1': 7, 'tuner/epochs': 3, 'tuner/initial_epoch': 0, 'tuner/bracket': 2, 'tuner/round': 0}\n"
          ]
        }
      ]
    },
    {
      "cell_type": "code",
      "source": [
        "# Evaluate the top 3 models against the test dataset\n",
        "top_model = tuner.get_best_models(3)\n",
        "for model in top_model:\n",
        "    model_loss, model_accuracy = model.evaluate(X_test,y_test,verbose=2)\n",
        "    print(f\"Loss: {model_loss}, Accuracy: {model_accuracy}\")"
      ],
      "metadata": {
        "id": "ulgnU37bltfL",
        "colab": {
          "base_uri": "https://localhost:8080/"
        },
        "outputId": "0e4e0431-53b3-4d75-fb08-e27bc340ea48"
      },
      "execution_count": 20,
      "outputs": [
        {
          "output_type": "stream",
          "name": "stdout",
          "text": [
            "3/3 - 1s - loss: 0.5838 - accuracy: 0.8356 - 504ms/epoch - 168ms/step\n",
            "Loss: 0.5838135480880737, Accuracy: 0.835616409778595\n",
            "3/3 - 0s - loss: 0.8898 - accuracy: 0.7808 - 459ms/epoch - 153ms/step\n",
            "Loss: 0.8898386359214783, Accuracy: 0.7808219194412231\n",
            "3/3 - 1s - loss: 0.5924 - accuracy: 0.7534 - 532ms/epoch - 177ms/step\n",
            "Loss: 0.5924168229103088, Accuracy: 0.7534246444702148\n"
          ]
        }
      ]
    },
    {
      "cell_type": "code",
      "source": [
        "# Get first best model hyperparameters\n",
        "first_hyper = tuner.get_best_hyperparameters()[0]\n",
        "first_hyper.values"
      ],
      "metadata": {
        "id": "cJDH_ZuAltcZ",
        "colab": {
          "base_uri": "https://localhost:8080/"
        },
        "outputId": "a9876883-c81f-481e-f195-44fa228b02ba"
      },
      "execution_count": 21,
      "outputs": [
        {
          "output_type": "execute_result",
          "data": {
            "text/plain": [
              "{'activation': 'relu',\n",
              " 'first_units': 3,\n",
              " 'num_layers': 2,\n",
              " 'units_0': 2,\n",
              " 'units_1': 9,\n",
              " 'tuner/epochs': 20,\n",
              " 'tuner/initial_epoch': 0,\n",
              " 'tuner/bracket': 0,\n",
              " 'tuner/round': 0}"
            ]
          },
          "metadata": {},
          "execution_count": 21
        }
      ]
    },
    {
      "cell_type": "code",
      "source": [
        "# Compare the performance to the keras model\n",
        "better_model = tuner.get_best_models(2)[1]\n",
        "model_loss, model_accuracy = better_model.evaluate(X_test,y_test,verbose=2)\n",
        "print(f\"Loss: {model_loss}, Accuracy: {model_accuracy}\")"
      ],
      "metadata": {
        "id": "QHv3atK1ltQU",
        "colab": {
          "base_uri": "https://localhost:8080/"
        },
        "outputId": "7febe50a-48d2-4ec4-e12d-27628b0e1bda"
      },
      "execution_count": 22,
      "outputs": [
        {
          "output_type": "stream",
          "name": "stderr",
          "text": [
            "WARNING:tensorflow:Detecting that an object or model or tf.train.Checkpoint is being deleted with unrestored values. See the following logs for the specific values in question. To silence these warnings, use `status.expect_partial()`. See https://www.tensorflow.org/api_docs/python/tf/train/Checkpoint#restorefor details about the status object returned by the restore function.\n",
            "WARNING:tensorflow:Value in checkpoint could not be found in the restored object: (root).optimizer._variables.1\n",
            "WARNING:tensorflow:Value in checkpoint could not be found in the restored object: (root).optimizer._variables.2\n",
            "WARNING:tensorflow:Value in checkpoint could not be found in the restored object: (root).optimizer._variables.3\n",
            "WARNING:tensorflow:Value in checkpoint could not be found in the restored object: (root).optimizer._variables.4\n",
            "WARNING:tensorflow:Value in checkpoint could not be found in the restored object: (root).optimizer._variables.5\n",
            "WARNING:tensorflow:Value in checkpoint could not be found in the restored object: (root).optimizer._variables.6\n",
            "WARNING:tensorflow:Value in checkpoint could not be found in the restored object: (root).optimizer._variables.7\n",
            "WARNING:tensorflow:Value in checkpoint could not be found in the restored object: (root).optimizer._variables.8\n",
            "WARNING:tensorflow:Value in checkpoint could not be found in the restored object: (root).optimizer._variables.9\n",
            "WARNING:tensorflow:Value in checkpoint could not be found in the restored object: (root).optimizer._variables.10\n",
            "WARNING:tensorflow:Value in checkpoint could not be found in the restored object: (root).optimizer._variables.11\n",
            "WARNING:tensorflow:Value in checkpoint could not be found in the restored object: (root).optimizer._variables.12\n",
            "WARNING:tensorflow:Value in checkpoint could not be found in the restored object: (root).optimizer._variables.13\n",
            "WARNING:tensorflow:Value in checkpoint could not be found in the restored object: (root).optimizer._variables.14\n",
            "WARNING:tensorflow:Value in checkpoint could not be found in the restored object: (root).optimizer._variables.15\n",
            "WARNING:tensorflow:Value in checkpoint could not be found in the restored object: (root).optimizer._variables.16\n",
            "WARNING:tensorflow:5 out of the last 70 calls to <function Model.make_test_function.<locals>.test_function at 0x7d8e6b0ce290> triggered tf.function retracing. Tracing is expensive and the excessive number of tracings could be due to (1) creating @tf.function repeatedly in a loop, (2) passing tensors with different shapes, (3) passing Python objects instead of tensors. For (1), please define your @tf.function outside of the loop. For (2), @tf.function has reduce_retracing=True option that can avoid unnecessary retracing. For (3), please refer to https://www.tensorflow.org/guide/function#controlling_retracing and https://www.tensorflow.org/api_docs/python/tf/function for  more details.\n"
          ]
        },
        {
          "output_type": "stream",
          "name": "stdout",
          "text": [
            "3/3 - 1s - loss: 0.8898 - accuracy: 0.7808 - 651ms/epoch - 217ms/step\n",
            "Loss: 0.8898386359214783, Accuracy: 0.7808219194412231\n"
          ]
        }
      ]
    },
    {
      "cell_type": "markdown",
      "source": [
        "# **REGRESSION MODEL COMPARISON**\n",
        "Comparison of models logistic regression, SVM, KNN, and XGBClassifier."
      ],
      "metadata": {
        "id": "KbJCYULO69l2"
      }
    },
    {
      "cell_type": "markdown",
      "source": [
        "**LOGISTIC REGRESSION MODEL**"
      ],
      "metadata": {
        "id": "kjHYFUMpBiGO"
      }
    },
    {
      "cell_type": "code",
      "source": [
        "# logitstic regression function\n",
        "\n",
        "def logistic_regression(X_train, y_train, X_test, y_test):\n",
        "    # Create a Logistic Regression model\n",
        "    log_reg_model = LogisticRegression(max_iter=1000, random_state=1)\n",
        "\n",
        "    # Fit the model using training data\n",
        "    lr_model = log_reg_model.fit(X_train, y_train)\n",
        "\n",
        "    # Make a prediction using the testing data\n",
        "    test_predictions = lr_model.predict(X_test)\n",
        "\n",
        "    # Print the balanced_accuracy score of the model\n",
        "    accuracy = balanced_accuracy_score(y_test, test_predictions)\n",
        "\n",
        "    # Generate a confusion matrix for the model\n",
        "    c_mat = confusion_matrix(y_test, test_predictions)\n",
        "\n",
        "    # Print results\n",
        "    print(\"~\"*10 + \"LOGISTIC REGRESSION\")\n",
        "    print(\"Accuracy: %.2f%%\" % (accuracy * 100))\n",
        "    print(f'Confusion matrix: \\n{c_mat}')\n",
        "    print(classification_report(y_test, test_predictions))"
      ],
      "metadata": {
        "id": "8asAHdxowUkY"
      },
      "execution_count": 23,
      "outputs": []
    },
    {
      "cell_type": "markdown",
      "source": [
        "**SVM MODEL**"
      ],
      "metadata": {
        "id": "kbC8NrVQFDnY"
      }
    },
    {
      "cell_type": "code",
      "source": [
        "# using SVM Optimizers\n",
        "from sklearn import svm\n",
        "\n",
        "def SVC(X_train, y_train, X_test, y_test):\n",
        "  #Create a svm Classifier\n",
        "  clf = svm.SVC(kernel='linear') # Linear Kernel\n",
        "\n",
        "  #Train the model using the training sets\n",
        "  clf.fit(X_train, y_train)\n",
        "\n",
        "  #Predict the response for test dataset\n",
        "  y_pred = clf.predict(X_test)\n",
        "\n",
        "  #Accuracy score\n",
        "  accuracy = metrics.accuracy_score(y_test, y_pred)\n",
        "\n",
        "  #confusion matrix\n",
        "  c_mat = confusion_matrix(y_test, y_pred)\n",
        "\n",
        "  # Model Accuracy: how often is the classifier correct?\n",
        "  print(\"~\"*10 + \"SVC\")\n",
        "  print(\"Accuracy: %.2f%%\" % (accuracy * 100))\n",
        "  print(c_mat)\n",
        "  print(classification_report(y_test, y_pred))"
      ],
      "metadata": {
        "id": "ymfUO0FVTdOm"
      },
      "execution_count": 24,
      "outputs": []
    },
    {
      "cell_type": "markdown",
      "source": [
        "**KNN MODEL**"
      ],
      "metadata": {
        "id": "8pZ20cNkrwO8"
      }
    },
    {
      "cell_type": "code",
      "source": [
        "# KNN function\n",
        "\n",
        "def KNN(X_train, y_train, X_test, y_test):\n",
        "\n",
        "  best_index = np.argmax(scores)\n",
        "  best_k = k_values[best_index]\n",
        "\n",
        "  knn = KNeighborsClassifier(n_neighbors=best_index)\n",
        "  knn.fit(X_train, y_train)\n",
        "\n",
        "  y_pred = knn.predict(X_test)\n",
        "  accuracy = accuracy_score(y_test, y_pred)\n",
        "  c_mat = confusion_matrix(y_test, y_pred)\n",
        "\n",
        "  # Model Accuracy\n",
        "  print(\"~\"*10 + \"KNN\")\n",
        "  print(\"Accuracy: %.2f%%\" % (accuracy * 100))\n",
        "  print(c_mat)\n",
        "  print(classification_report(y_test, y_pred))"
      ],
      "metadata": {
        "id": "TJABShYQONgd"
      },
      "execution_count": 25,
      "outputs": []
    },
    {
      "cell_type": "code",
      "source": [
        "k_values = [i for i in range (1,10)]\n",
        "scores = []\n",
        "\n",
        "for k in k_values:\n",
        "    knn = KNeighborsClassifier(n_neighbors=k)\n",
        "    score = cross_val_score(knn, X_pca, y, cv=10)\n",
        "    scores.append(np.mean(score))\n",
        "\n",
        "sns.lineplot(x = k_values, y=scores, marker = 'o')\n",
        "plt.xlabel(\"K Values\")\n",
        "plt.ylabel(\"Accuracy Score\")"
      ],
      "metadata": {
        "id": "LP_yNN6l7oXi",
        "colab": {
          "base_uri": "https://localhost:8080/",
          "height": 466
        },
        "outputId": "706f7816-dad8-463d-9d30-c80b26ddfa14"
      },
      "execution_count": 26,
      "outputs": [
        {
          "output_type": "execute_result",
          "data": {
            "text/plain": [
              "Text(0, 0.5, 'Accuracy Score')"
            ]
          },
          "metadata": {},
          "execution_count": 26
        },
        {
          "output_type": "display_data",
          "data": {
            "text/plain": [
              "<Figure size 640x480 with 1 Axes>"
            ],
            "image/png": "[encoded data removed]"
          },
          "metadata": {}
        }
      ]
    },
    {
      "cell_type": "markdown",
      "source": [
        "**XGBClassifier MODEL**"
      ],
      "metadata": {
        "id": "tzbfCA8GcqWH"
      }
    },
    {
      "cell_type": "code",
      "source": [
        "from xgboost.sklearn import XGBClassifier"
      ],
      "metadata": {
        "id": "vw2A-Kb_SzxJ"
      },
      "execution_count": 27,
      "outputs": []
    },
    {
      "cell_type": "code",
      "source": [
        "\n",
        "def evaluate_xgb_classifier(X_train, y_train, X_test, y_test):\n",
        "    # Initialize the XGBClassifier\n",
        "    model = XGBClassifier()\n",
        "\n",
        "    # Fit the model on the training data\n",
        "    model.fit(X_train, y_train)\n",
        "\n",
        "    # Make predictions for the test data\n",
        "    y_pred = model.predict(X_test)\n",
        "\n",
        "    # Round the predicted values to binary (0 or 1)\n",
        "    y_pred = [round(value) for value in y_pred]\n",
        "\n",
        "    # Evaluate predictions using accuracy score\n",
        "    accuracy = accuracy_score(y_test, y_pred)\n",
        "\n",
        "    # confusion matrix\n",
        "    c_mat = confusion_matrix(y_test, y_pred)\n",
        "\n",
        "    # Print the accuracy\n",
        "    print(\"~\"*10 + \"XGB Classifier\")\n",
        "    print(\"Accuracy: %.2f%%\" % (accuracy * 100.0))\n",
        "    print(c_mat)\n",
        "    print(classification_report(y_test, y_pred))"
      ],
      "metadata": {
        "id": "MpSjR9svPjcm"
      },
      "execution_count": 28,
      "outputs": []
    },
    {
      "cell_type": "markdown",
      "source": [
        "**ACCURACY RESULTS**"
      ],
      "metadata": {
        "id": "W7pRBJqlUVHw"
      }
    },
    {
      "cell_type": "code",
      "source": [
        "logistic_regression(X_train, y_train, X_test, y_test)\n",
        "SVC(X_train, y_train, X_test, y_test)\n",
        "KNN(X_train, y_train, X_test, y_test)\n",
        "evaluate_xgb_classifier(X_train, y_train, X_test, y_test)"
      ],
      "metadata": {
        "colab": {
          "base_uri": "https://localhost:8080/"
        },
        "id": "aixsbRNFTs2k",
        "outputId": "82ffe31f-2a5c-4e68-a018-04c62235396e"
      },
      "execution_count": 29,
      "outputs": [
        {
          "output_type": "stream",
          "name": "stdout",
          "text": [
            "~~~~~~~~~~LOGISTIC REGRESSION\n",
            "Accuracy: 84.95%\n",
            "Confusion matrix: \n",
            "[[33  6]\n",
            " [ 5 29]]\n",
            "              precision    recall  f1-score   support\n",
            "\n",
            "         0.0       0.87      0.85      0.86        39\n",
            "         1.0       0.83      0.85      0.84        34\n",
            "\n",
            "    accuracy                           0.85        73\n",
            "   macro avg       0.85      0.85      0.85        73\n",
            "weighted avg       0.85      0.85      0.85        73\n",
            "\n",
            "~~~~~~~~~~SVC\n",
            "Accuracy: 82.19%\n",
            "[[33  6]\n",
            " [ 7 27]]\n",
            "              precision    recall  f1-score   support\n",
            "\n",
            "         0.0       0.82      0.85      0.84        39\n",
            "         1.0       0.82      0.79      0.81        34\n",
            "\n",
            "    accuracy                           0.82        73\n",
            "   macro avg       0.82      0.82      0.82        73\n",
            "weighted avg       0.82      0.82      0.82        73\n",
            "\n",
            "~~~~~~~~~~KNN\n",
            "Accuracy: 86.30%\n",
            "[[32  7]\n",
            " [ 3 31]]\n",
            "              precision    recall  f1-score   support\n",
            "\n",
            "         0.0       0.91      0.82      0.86        39\n",
            "         1.0       0.82      0.91      0.86        34\n",
            "\n",
            "    accuracy                           0.86        73\n",
            "   macro avg       0.87      0.87      0.86        73\n",
            "weighted avg       0.87      0.86      0.86        73\n",
            "\n",
            "~~~~~~~~~~XGB Classifier\n",
            "Accuracy: 82.19%\n",
            "[[32  7]\n",
            " [ 6 28]]\n",
            "              precision    recall  f1-score   support\n",
            "\n",
            "         0.0       0.84      0.82      0.83        39\n",
            "         1.0       0.80      0.82      0.81        34\n",
            "\n",
            "    accuracy                           0.82        73\n",
            "   macro avg       0.82      0.82      0.82        73\n",
            "weighted avg       0.82      0.82      0.82        73\n",
            "\n"
          ]
        }
      ]
    }
  ]
}